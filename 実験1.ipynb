{
 "cells": [
  {
   "cell_type": "code",
   "execution_count": 1,
   "metadata": {},
   "outputs": [],
   "source": [
    "#init\n",
    "import numpy as np\n",
    "import pandas as pd\n",
    "path = \"scene.csv\"\n",
    "#データセットのパス指定 "
   ]
  },
  {
   "cell_type": "code",
   "execution_count": 2,
   "metadata": {},
   "outputs": [],
   "source": [
    "def inputData(path):\n",
    "    action = np.loadtxt(path,delimiter=\",\",dtype=\"unicode\")\n",
    "    return action"
   ]
  },
  {
   "cell_type": "code",
   "execution_count": 3,
   "metadata": {},
   "outputs": [],
   "source": [
    "def central(action,keyword):\n",
    "    scene = {\n",
    "         \"叩かれた\":{\"なし\":\"怒り\"},\n",
    "\"攻撃された\":{\"なし\":\"悲しみ\"},\n",
    "\"聞いた\":{\"説明\":\"信頼\"},\n",
    "\"目の当たりにした\":{\"なし\":\"驚き\"},\n",
    "\"見た\":{\"プレゼント\":\"期待\",\"嫌いな人\":\"嫌悪\",\"汚いもの\":\"嫌悪\",\"なし\":\"喜び\"}\n",
    "     }\n",
    "    if action not in scene.keys():\n",
    "        return \"該当なし\"\n",
    "    elif keyword not in scene[action].keys():\n",
    "        return \"該当なし\"\n",
    "    elif type(scene[action][keyword]) == list :\n",
    "        return \"複数該当あり\"\n",
    "    else :\n",
    "        return scene[action][keyword]"
   ]
  },
  {
   "cell_type": "code",
   "execution_count": 4,
   "metadata": {},
   "outputs": [],
   "source": [
    "def peripheral(reaction,keyword):\n",
    "    scene = {\n",
    "        \"熱くなる\":{\"顔\":\"怒り\",\"目頭\":\"喜び\"},\n",
    "        \"出る\":{\"よだれ\":\"喜び\",\"涙\":\"嫌悪\"},\n",
    "        \"つく\":{\"傷\":\"悲しみ\"},\n",
    "        \"真っ白になる\":{\"頭\":\"驚き\"},\n",
    "        \"緩む\":{\"口元\":[\"期待\",\"喜び\"]}\n",
    "    }\n",
    "    if reaction not in scene.keys():\n",
    "        return \"該当なし\"\n",
    "    elif keyword not in scene[reaction].keys():\n",
    "        return \"該当なし\"\n",
    "    elif type(scene[reaction][keyword]) == list :\n",
    "        return \"複数該当あり\"\n",
    "    else :\n",
    "        return scene[reaction][keyword]"
   ]
  },
  {
   "cell_type": "code",
   "execution_count": 5,
   "metadata": {
    "scrolled": true
   },
   "outputs": [
    {
     "name": "stdout",
     "output_type": "stream",
     "text": [
      "['見た' '目の当たりにした' '見た' '見た' '聞いた' '来た' '見た' '叩かれた']\n",
      "['なし' 'なし' '嫌いな人' '汚いもの' '説明' '迎え' '怖いもの' 'なし']\n",
      "8\n",
      "8\n",
      "      状況   修飾語    感情\n",
      "1     見た    なし    喜び\n",
      "2     見た    なし    喜び\n",
      "3     見た  嫌いな人    嫌悪\n",
      "4     見た  汚いもの    嫌悪\n",
      "5     見た    説明  該当なし\n",
      "..   ...   ...   ...\n",
      "60  叩かれた  汚いもの  該当なし\n",
      "61  叩かれた    説明  該当なし\n",
      "62  叩かれた    迎え  該当なし\n",
      "63  叩かれた  怖いもの  該当なし\n",
      "64  叩かれた    なし    怒り\n",
      "\n",
      "[64 rows x 3 columns]\n",
      "該当なし\n",
      "37\n",
      "複数該当あり\n",
      "0\n",
      "['出る' '真っ白になる' 'しかめる' '歪む' 'する' '眠くなる' '歪む' '熱くなる']\n",
      "['よだれ' '頭' '顔' '口元' '納得' 'なし' '口元' '顔']\n",
      "8\n",
      "8\n",
      "      状況  修飾語    感情\n",
      "1     出る  よだれ    喜び\n",
      "2     出る    頭  該当なし\n",
      "3     出る    顔  該当なし\n",
      "4     出る   口元  該当なし\n",
      "5     出る   納得  該当なし\n",
      "..   ...  ...   ...\n",
      "60  熱くなる   口元  該当なし\n",
      "61  熱くなる   納得  該当なし\n",
      "62  熱くなる   なし  該当なし\n",
      "63  熱くなる   口元  該当なし\n",
      "64  熱くなる    顔    怒り\n",
      "\n",
      "[64 rows x 3 columns]\n",
      "該当なし\n",
      "60\n",
      "複数該当あり\n",
      "0\n"
     ]
    }
   ],
   "source": [
    "datacentral = pd.DataFrame(index = [],columns = [\"状況\",\"修飾語\",\"感情\"])\n",
    "dataperipheral = pd.DataFrame(index = [],columns = [\"状況\",\"修飾語\",\"感情\"])\n",
    "action = inputData(path)\n",
    "scenes = action[:,0]\n",
    "modifier = action[:,1]\n",
    "print (scenes)\n",
    "print (modifier)\n",
    "print (len(scenes))\n",
    "print (len(modifier))\n",
    "k = 0\n",
    "for i in scenes:\n",
    "    for j in modifier:\n",
    "        k = k+1\n",
    "        cemo = central(i,j)\n",
    "        clist = [i,j,cemo]\n",
    "        datacentral.loc[k] = clist\n",
    "print (datacentral)\n",
    "c_bool = datacentral[\"感情\"] == \"該当なし\"\n",
    "print (\"該当なし\")\n",
    "print (c_bool.sum())\n",
    "c_bool = dataperipheral[\"感情\"] == \"複数該当あり\"\n",
    "print (\"複数該当あり\")\n",
    "print (c_bool.sum())\n",
    "datacentral.to_csv(\"cemo_dif.csv\",index = False)\n",
    "scenes = action[:,2]\n",
    "modifier = action[:,3]\n",
    "print (scenes)\n",
    "print (modifier)\n",
    "print (len(scenes))\n",
    "print (len(modifier))\n",
    "k = 0\n",
    "for i in scenes:\n",
    "    for j in modifier:\n",
    "        k = k+1\n",
    "        pemo = peripheral(i,j)\n",
    "        plist = [i,j,pemo]\n",
    "        dataperipheral.loc[k] = plist\n",
    "print (dataperipheral)\n",
    "p_bool = dataperipheral[\"感情\"] == \"該当なし\"\n",
    "print(\"該当なし\")\n",
    "print (p_bool.sum())\n",
    "p_bool = dataperipheral[\"感情\"] == \"複数該当あり\"\n",
    "print (\"複数該当あり\")\n",
    "print (p_bool.sum())\n",
    "dataperipheral.to_csv(\"pemo_dif.csv\",index = False)"
   ]
  }
 ],
 "metadata": {
  "kernelspec": {
   "display_name": "Python 3",
   "language": "python",
   "name": "python3"
  },
  "language_info": {
   "codemirror_mode": {
    "name": "ipython",
    "version": 3
   },
   "file_extension": ".py",
   "mimetype": "text/x-python",
   "name": "python",
   "nbconvert_exporter": "python",
   "pygments_lexer": "ipython3",
   "version": "3.9.1"
  }
 },
 "nbformat": 4,
 "nbformat_minor": 4
}
