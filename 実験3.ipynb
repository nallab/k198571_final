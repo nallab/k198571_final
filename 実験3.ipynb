{
 "cells": [
  {
   "cell_type": "code",
   "execution_count": 35,
   "metadata": {},
   "outputs": [],
   "source": [
    "#init\n",
    "import numpy as np\n",
    "import pandas as pd"
   ]
  },
  {
   "cell_type": "code",
   "execution_count": 38,
   "metadata": {},
   "outputs": [],
   "source": [
    "def central(action,firstword,secondword):\n",
    "    scene = {\n",
    "        \"聞いた\":{\"品物\":{\"嫌い\":\"悲しみ\",\"欲しい\":\"喜び\"},\"文句\":{\"理不尽\":\"怒り\",\"真っ当\":\"悲しみ\"}},\n",
    "        \"来た\":{\"ギリギリ\":{\"友人\":\"怒り\",\"品物\":\"喜び\"},\"友人\":{\"ようやく\":\"喜び\",\"遅れて\":\"怒り\"}},\n",
    "     }\n",
    "    if action not in scene.keys():\n",
    "        return \"該当なし\"\n",
    "    elif firstword not in scene[action].keys():\n",
    "        return \"該当なし\"\n",
    "    elif secondword not in scene[action][firstword].keys(): \n",
    "        return \"該当なし\"\n",
    "    else :\n",
    "        return scene[action][firstword][secondword]"
   ]
  },
  {
   "cell_type": "code",
   "execution_count": 39,
   "metadata": {},
   "outputs": [
    {
     "data": {
      "text/plain": [
       "'\\n    kesita = {\"アプリ\":\"嫌悪\"}\\n    deta = {\"涙\":\"悲しみ\"}\\n    pdic = {\"アプリを消した\":\"嫌悪\",\"低レベル\":\"嫌悪\",\"高レベル\":\"嫌悪\",\"涙が出た\":\"嫌悪\"}\\n    '"
      ]
     },
     "execution_count": 39,
     "metadata": {},
     "output_type": "execute_result"
    }
   ],
   "source": [
    "def peripheral(reaction,firstword,secondword):\n",
    "    scene = {\n",
    "        \"書き込む\":{\"理由\":{\"休み\":\"心配\",\"頭痛\":\"怒り\"}},\n",
    "        \"した\":{\"準備\":{\"避難\":\"心配\",\"旅行\":\"期待\"}},\n",
    "            }\n",
    "    if reaction not in scene.keys():\n",
    "        return \"該当なし\"\n",
    "    elif firstword not in scene[reaction].keys():\n",
    "        return \"該当なし\"\n",
    "    elif secondword not in scene[reaction][firstword].keys(): \n",
    "        return \"該当なし\"\n",
    "    else :\n",
    "        return scene[reaction][firstword][secondword]"
   ]
  },
  {
   "cell_type": "code",
   "execution_count": 41,
   "metadata": {
    "scrolled": true
   },
   "outputs": [
    {
     "name": "stdout",
     "output_type": "stream",
     "text": [
      "['かけられた', 'された', 'やってくれた', '応募した', '足された', '妊娠していた', '病気', '聞いた', '来た']\n",
      "['カレー', 'ゴキブリ', '虫', '依頼', '快く', '怖いもの', '子供', '母', '嫌いな人', '友人', '品物', '文句', 'ギリギリ']\n",
      "['服', 'いきなり', '突然', '大きな', '難しい', '楽しそう', '報酬', '問題', '依頼', '新作', '苦手', '食べきれない', '物足りない', 'いつのまにか', '無断', '飼い猫', '実家', '子供嫌い', 'とても', '事故', '不摂生', '嫌い', '欲しい', '理不尽', '真っ当', '友人', '品物', 'ようやく', '遅れて']\n",
      "9\n",
      "13\n",
      "29\n",
      "         状況  修飾語1  修飾語2    感情\n",
      "1     かけられた   カレー     服    嫌悪\n",
      "2     かけられた   カレー  いきなり  該当なし\n",
      "3     かけられた   カレー    突然    驚き\n",
      "4     かけられた   カレー   大きな  該当なし\n",
      "5     かけられた   カレー   難しい  該当なし\n",
      "...     ...   ...   ...   ...\n",
      "3389     来た  ギリギリ   真っ当  該当なし\n",
      "3390     来た  ギリギリ    友人    怒り\n",
      "3391     来た  ギリギリ    品物    喜び\n",
      "3392     来た  ギリギリ  ようやく  該当なし\n",
      "3393     来た  ギリギリ   遅れて  該当なし\n",
      "\n",
      "[3393 rows x 4 columns]\n",
      "該当なし\n",
      "3361\n",
      "複数該当あり\n",
      "0\n",
      "['した', 'する', '緩む', '出る', '書き込む', '歪む', '殴る']\n",
      "['準備', '納得', '口元', '涙', '大声', '理由', '一発']\n",
      "['避難', '旅行', '休み', '頭痛', '評価', 'むりやり', '気持ち悪い', '死んだ', 'ゴール', '理不尽', 'うわ', 'きゃー', 'コラ', '気持ち悪さ', '気がかり', '孫', '顔', '軽く']\n",
      "7\n",
      "7\n",
      "18\n",
      "     状況 修飾語1   修飾語2    感情\n",
      "1    した   準備     避難    心配\n",
      "2    した   準備     旅行    期待\n",
      "3    した   準備     休み  該当なし\n",
      "4    した   準備     頭痛  該当なし\n",
      "5    した   準備     評価  該当なし\n",
      "..   ..  ...    ...   ...\n",
      "878  殴る   一発  気持ち悪さ  該当なし\n",
      "879  殴る   一発   気がかり  該当なし\n",
      "880  殴る   一発      孫  該当なし\n",
      "881  殴る   一発      顔    怒り\n",
      "882  殴る   一発     軽く    信頼\n",
      "\n",
      "[882 rows x 4 columns]\n",
      "該当なし\n",
      "863\n",
      "複数該当あり\n",
      "0\n"
     ]
    }
   ],
   "source": [
    "datacentral = pd.DataFrame(index = [],columns = [\"状況\",\"修飾語1\",\"修飾語2\",\"感情\"])\n",
    "dataperipheral = pd.DataFrame(index = [],columns = [\"状況\",\"修飾語1\",\"修飾語2\",\"感情\"])\n",
    "cscenes = [\"かけられた\",\"された\",\"やってくれた\",\"応募した\",\"足された\",\"妊娠していた\",\"病気\",\"聞いた\",\"来た\"]\n",
    "cfirstword = [\"カレー\",\"ゴキブリ\",\"虫\",\"依頼\",\"快く\",\"怖いもの\",\"子供\",\"母\",\"嫌いな人\",\"友人\",\"品物\",\"文句\",\"ギリギリ\"]\n",
    "csecondword = [\"服\",\"いきなり\",\"突然\",\"大きな\",\"難しい\",\"楽しそう\",\"報酬\",\"問題\",\"依頼\",\"新作\",\"苦手\",\"食べきれない\",\"物足りない\",\"いつのまにか\",\"無断\",\"飼い猫\",\"実家\",\"子供嫌い\",\"とても\",\"事故\",\"不摂生\",\"嫌い\",\"欲しい\",\"理不尽\",\"真っ当\",\"友人\",\"品物\",\"ようやく\",\"遅れて\"]\n",
    "print (cscenes)\n",
    "print (cfirstword)\n",
    "print (csecondword)\n",
    "print (len(cscenes))\n",
    "print (len(cfirstword))\n",
    "print (len(csecondword))\n",
    "k = 0\n",
    "for i in cscenes:\n",
    "    for j in cfirstword:\n",
    "            for m in csecondword:\n",
    "                k = k+1\n",
    "                cemo = central(i,j,m)\n",
    "                clist = [i,j,m,cemo]\n",
    "                datacentral.loc[k] = clist\n",
    "print (datacentral)\n",
    "c_bool = datacentral[\"感情\"] == \"該当なし\"\n",
    "print (\"該当なし\")\n",
    "print (c_bool.sum())\n",
    "c_bool = datacentral[\"感情\"] == \"複数該当あり\"\n",
    "print (\"複数該当あり\")\n",
    "print (c_bool.sum())\n",
    "datacentral.to_csv(\"cemo_dif7.csv\",index = False,encoding='utf_8_sig')\n",
    "\n",
    "pscenes = [\"した\",\"する\",\"緩む\",\"出る\",\"書き込む\",\"歪む\",\"殴る\"]\n",
    "pfirstword = [\"準備\",\"納得\",\"口元\",\"涙\",\"大声\",\"理由\",\"一発\"]\n",
    "psecondword = [\"避難\",\"旅行\",\"休み\",\"頭痛\",\"評価\",\"むりやり\",\"気持ち悪い\",\"死んだ\",\"ゴール\",\"理不尽\",\"うわ\",\"きゃー\",\"コラ\",\"気持ち悪さ\",\"気がかり\",\"孫\",\"顔\",\"軽く\"]\n",
    "print (pscenes)\n",
    "print (pfirstword)\n",
    "print (psecondword)\n",
    "print (len(pscenes))\n",
    "print (len(pfirstword))\n",
    "print (len(psecondword))\n",
    "k = 0\n",
    "for i in pscenes:\n",
    "    for j in pfirstword:\n",
    "            for m in psecondword:\n",
    "                k = k+1\n",
    "                pemo = peripheral(i,j,m)\n",
    "                plist = [i,j,m,pemo]\n",
    "                dataperipheral.loc[k] = plist\n",
    "print (dataperipheral)\n",
    "p_bool = dataperipheral[\"感情\"] == \"該当なし\"\n",
    "print(\"該当なし\")\n",
    "print (p_bool.sum())\n",
    "p_bool = dataperipheral[\"感情\"] == \"複数該当あり\"\n",
    "print (\"複数該当あり\")\n",
    "print (p_bool.sum())\n",
    "dataperipheral.to_csv(\"pemo_dif7.csv\",index = False,encoding='utf_8_sig')"
   ]
  }
 ],
 "metadata": {
  "kernelspec": {
   "display_name": "Python 3",
   "language": "python",
   "name": "python3"
  },
  "language_info": {
   "codemirror_mode": {
    "name": "ipython",
    "version": 3
   },
   "file_extension": ".py",
   "mimetype": "text/x-python",
   "name": "python",
   "nbconvert_exporter": "python",
   "pygments_lexer": "ipython3",
   "version": "3.9.1"
  }
 },
 "nbformat": 4,
 "nbformat_minor": 4
}
