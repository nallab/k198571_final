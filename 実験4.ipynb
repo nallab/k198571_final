{
 "cells": [
  {
   "cell_type": "code",
   "execution_count": 1,
   "metadata": {},
   "outputs": [],
   "source": [
    "#init\n",
    "import numpy as np\n",
    "import pandas as pd "
   ]
  },
  {
   "cell_type": "code",
   "execution_count": 2,
   "metadata": {},
   "outputs": [],
   "source": [
    "def central(action,firstword,secondword):\n",
    "    scene = {\n",
    "\"見た\":{\"青空\":{\"突き抜ける\":\"喜び\"}},\"浴びた\":{\"風\":{\"爽やか\":\"喜び\"}},\"嗅いだ\":{\"匂い\":{\"コーヒー\":[\"喜び\",\"悲しみ\"]}}\n",
    "     }\n",
    "    if action not in scene.keys():\n",
    "        return \"該当なし\"\n",
    "    elif firstword not in scene[action].keys():\n",
    "        return \"該当なし\"\n",
    "    elif secondword not in scene[action][firstword].keys(): \n",
    "        return \"該当なし\"\n",
    "    else :\n",
    "        return scene[action][firstword][secondword]"
   ]
  },
  {
   "cell_type": "code",
   "execution_count": 3,
   "metadata": {
    "scrolled": true
   },
   "outputs": [
    {
     "name": "stdout",
     "output_type": "stream",
     "text": [
      "['見た', '嗅いだ', '浴びた']\n",
      "['青空', '風', '匂い']\n",
      "['突き抜ける', '爽やか', 'コーヒー']\n",
      "3\n",
      "3\n",
      "3\n",
      "     状況 修飾語1   修飾語2         感情\n",
      "1    見た   青空  突き抜ける         喜び\n",
      "2    見た   青空    爽やか       該当なし\n",
      "3    見た   青空   コーヒー       該当なし\n",
      "4    見た    風  突き抜ける       該当なし\n",
      "5    見た    風    爽やか       該当なし\n",
      "6    見た    風   コーヒー       該当なし\n",
      "7    見た   匂い  突き抜ける       該当なし\n",
      "8    見た   匂い    爽やか       該当なし\n",
      "9    見た   匂い   コーヒー       該当なし\n",
      "10  嗅いだ   青空  突き抜ける       該当なし\n",
      "11  嗅いだ   青空    爽やか       該当なし\n",
      "12  嗅いだ   青空   コーヒー       該当なし\n",
      "13  嗅いだ    風  突き抜ける       該当なし\n",
      "14  嗅いだ    風    爽やか       該当なし\n",
      "15  嗅いだ    風   コーヒー       該当なし\n",
      "16  嗅いだ   匂い  突き抜ける       該当なし\n",
      "17  嗅いだ   匂い    爽やか       該当なし\n",
      "18  嗅いだ   匂い   コーヒー  [喜び, 悲しみ]\n",
      "19  浴びた   青空  突き抜ける       該当なし\n",
      "20  浴びた   青空    爽やか       該当なし\n",
      "21  浴びた   青空   コーヒー       該当なし\n",
      "22  浴びた    風  突き抜ける       該当なし\n",
      "23  浴びた    風    爽やか         喜び\n",
      "24  浴びた    風   コーヒー       該当なし\n",
      "25  浴びた   匂い  突き抜ける       該当なし\n",
      "26  浴びた   匂い    爽やか       該当なし\n",
      "27  浴びた   匂い   コーヒー       該当なし\n",
      "該当なし\n",
      "24\n",
      "複数該当あり\n",
      "0\n"
     ]
    }
   ],
   "source": [
    "datacentral = pd.DataFrame(index = [],columns = [\"状況\",\"修飾語1\",\"修飾語2\",\"感情\"])\n",
    "dataperipheral = pd.DataFrame(index = [],columns = [\"状況\",\"修飾語1\",\"修飾語2\",\"感情\"])\n",
    "cscenes = [\"見た\",\"嗅いだ\",\"浴びた\"]\n",
    "cfirstword = [\"青空\",\"風\",\"匂い\"]\n",
    "csecondword = [\"突き抜ける\",\"爽やか\",\"コーヒー\"]\n",
    "print (cscenes)\n",
    "print (cfirstword)\n",
    "print (csecondword)\n",
    "print (len(cscenes))\n",
    "print (len(cfirstword))\n",
    "print (len(csecondword))\n",
    "k = 0\n",
    "for i in cscenes:\n",
    "    for j in cfirstword:\n",
    "            for m in csecondword:\n",
    "                k = k+1\n",
    "                cemo = central(i,j,m)\n",
    "                clist = [i,j,m,cemo]\n",
    "                datacentral.loc[k] = clist\n",
    "print (datacentral)\n",
    "c_bool = datacentral[\"感情\"] == \"該当なし\"\n",
    "print (\"該当なし\")\n",
    "print (c_bool.sum())\n",
    "c_bool = datacentral[\"感情\"] == \"複数該当あり\"\n",
    "print (\"複数該当あり\")\n",
    "print (c_bool.sum())\n",
    "datacentral.to_csv(\"cemo_dif8.csv\",index = False,encoding='utf_8_sig')"
   ]
  }
 ],
 "metadata": {
  "kernelspec": {
   "display_name": "Python 3",
   "language": "python",
   "name": "python3"
  },
  "language_info": {
   "codemirror_mode": {
    "name": "ipython",
    "version": 3
   },
   "file_extension": ".py",
   "mimetype": "text/x-python",
   "name": "python",
   "nbconvert_exporter": "python",
   "pygments_lexer": "ipython3",
   "version": "3.9.1"
  }
 },
 "nbformat": 4,
 "nbformat_minor": 4
}
